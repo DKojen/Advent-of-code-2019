{
  "nbformat": 4,
  "nbformat_minor": 0,
  "metadata": {
    "colab": {
      "name": "day1_meta.ipynb",
      "provenance": [],
      "mount_file_id": "1gt4Ih2FMRRA5d3I4_cWJriA5r6osp3n2",
      "authorship_tag": "ABX9TyNLxeJURhXe+3q4b7RlrUuh",
      "include_colab_link": true
    },
    "kernelspec": {
      "name": "python3",
      "display_name": "Python 3"
    }
  },
  "cells": [
    {
      "cell_type": "markdown",
      "metadata": {
        "id": "view-in-github",
        "colab_type": "text"
      },
      "source": [
        "<a href=\"https://colab.research.google.com/github/DKojen/Advent-of-code-2019/blob/master/day1_meta.ipynb\" target=\"_parent\"><img src=\"https://colab.research.google.com/assets/colab-badge.svg\" alt=\"Open In Colab\"/></a>"
      ]
    },
    {
      "cell_type": "code",
      "metadata": {
        "id": "oJnoJIpQc5qC",
        "colab_type": "code",
        "colab": {
          "base_uri": "https://localhost:8080/",
          "height": 35
        },
        "outputId": "9499a97b-6f1f-4a82-ece5-db90b2956362"
      },
      "source": [
        "ls \"/content/drive/My Drive/Colab Notebooks/Matrix\""
      ],
      "execution_count": 2,
      "outputs": [
        {
          "output_type": "stream",
          "text": [
            "colab  \u001b[0m\u001b[01;34mdata\u001b[0m/  HelloGithub.ipynb  LICENSE  \u001b[01;34mmatrix_one\u001b[0m/  README.md\n"
          ],
          "name": "stdout"
        }
      ]
    },
    {
      "cell_type": "code",
      "metadata": {
        "id": "q1M0_Vkgd-Gc",
        "colab_type": "code",
        "colab": {}
      },
      "source": [
        "!mkdir -p \"/content/drive/My Drive/Colab Notebooks/Matrix_car\""
      ],
      "execution_count": 0,
      "outputs": []
    },
    {
      "cell_type": "code",
      "metadata": {
        "id": "gXoUW88teHH4",
        "colab_type": "code",
        "colab": {
          "base_uri": "https://localhost:8080/",
          "height": 35
        },
        "outputId": "ebbc8dec-e881-402c-b204-5017838bf725"
      },
      "source": [
        "cd \"/content/drive/My Drive/Colab Notebooks/Matrix_car\""
      ],
      "execution_count": 51,
      "outputs": [
        {
          "output_type": "stream",
          "text": [
            "/content/drive/My Drive/Colab Notebooks/Matrix_car\n"
          ],
          "name": "stdout"
        }
      ]
    },
    {
      "cell_type": "code",
      "metadata": {
        "id": "UFwxd9UbleZF",
        "colab_type": "code",
        "colab": {
          "base_uri": "https://localhost:8080/",
          "height": 35
        },
        "outputId": "8100e0f6-64ea-4436-ba9f-ad9b8b1ae8f2"
      },
      "source": [
        "!pwd"
      ],
      "execution_count": 52,
      "outputs": [
        {
          "output_type": "stream",
          "text": [
            "/content/drive/My Drive/Colab Notebooks/Matrix_car\n"
          ],
          "name": "stdout"
        }
      ]
    },
    {
      "cell_type": "code",
      "metadata": {
        "id": "rJNB0Vk4norM",
        "colab_type": "code",
        "colab": {}
      },
      "source": [
        "GITHUB_TOKEN= '6cd1f4ae7db4ee7d76d5f1fae57f2c3431e3b127'\n",
        "GITHUB_URL='https://{}@github.com/DKojen/Matrix_car.git'.format(GITHUB_TOKEN)"
      ],
      "execution_count": 0,
      "outputs": []
    },
    {
      "cell_type": "code",
      "metadata": {
        "id": "6XHeM5CVnonp",
        "colab_type": "code",
        "colab": {
          "base_uri": "https://localhost:8080/",
          "height": 35
        },
        "outputId": "872b9b07-5a7d-411a-db30-6142dcb4303e"
      },
      "source": [
        "!git clone $GITHUB_URL"
      ],
      "execution_count": 54,
      "outputs": [
        {
          "output_type": "stream",
          "text": [
            "fatal: destination path 'Matrix_car' already exists and is not an empty directory.\n"
          ],
          "name": "stdout"
        }
      ]
    },
    {
      "cell_type": "code",
      "metadata": {
        "id": "uKcCS5vpr9Yb",
        "colab_type": "code",
        "colab": {
          "base_uri": "https://localhost:8080/",
          "height": 35
        },
        "outputId": "59b49995-9dac-41d6-a50a-db90ca5f9c9a"
      },
      "source": [
        "!mkdir data"
      ],
      "execution_count": 55,
      "outputs": [
        {
          "output_type": "stream",
          "text": [
            "mkdir: cannot create directory ‘data’: File exists\n"
          ],
          "name": "stdout"
        }
      ]
    },
    {
      "cell_type": "code",
      "metadata": {
        "id": "-BQ-rZGVsWHu",
        "colab_type": "code",
        "colab": {}
      },
      "source": [
        "!echo -e \"*\\n!.gitignore\" > data/.gitignore"
      ],
      "execution_count": 0,
      "outputs": []
    },
    {
      "cell_type": "code",
      "metadata": {
        "id": "vUQvFnMJs0mo",
        "colab_type": "code",
        "colab": {
          "base_uri": "https://localhost:8080/",
          "height": 52
        },
        "outputId": "d627d5ea-4bd4-4031-ada7-02eaf7bb05fe"
      },
      "source": [
        "!git add data/.gitignore"
      ],
      "execution_count": 43,
      "outputs": [
        {
          "output_type": "stream",
          "text": [
            "fatal: not a git repository (or any parent up to mount point /content)\n",
            "Stopping at filesystem boundary (GIT_DISCOVERY_ACROSS_FILESYSTEM not set).\n"
          ],
          "name": "stdout"
        }
      ]
    },
    {
      "cell_type": "code",
      "metadata": {
        "id": "LuDySI5VtBtN",
        "colab_type": "code",
        "colab": {
          "base_uri": "https://localhost:8080/",
          "height": 52
        },
        "outputId": "162c611f-74a5-48d2-aa64-f3394bcc6d2f"
      },
      "source": [
        "!git commit -m \"add data directory\""
      ],
      "execution_count": 56,
      "outputs": [
        {
          "output_type": "stream",
          "text": [
            "fatal: not a git repository (or any parent up to mount point /content)\n",
            "Stopping at filesystem boundary (GIT_DISCOVERY_ACROSS_FILESYSTEM not set).\n"
          ],
          "name": "stdout"
        }
      ]
    },
    {
      "cell_type": "code",
      "metadata": {
        "id": "tqCfRSaZtKoq",
        "colab_type": "code",
        "colab": {}
      },
      "source": [
        "!git config --global user.email \"kolesinska.dk@gmail.com\"\n",
        "!git config --global user.name \"Dominika\""
      ],
      "execution_count": 0,
      "outputs": []
    },
    {
      "cell_type": "code",
      "metadata": {
        "id": "cMhVqxZlxtta",
        "colab_type": "code",
        "colab": {
          "base_uri": "https://localhost:8080/",
          "height": 52
        },
        "outputId": "a2f1a952-062f-4495-c50f-e0471cf111a7"
      },
      "source": [
        "!git commit -m \"add data directory\""
      ],
      "execution_count": 57,
      "outputs": [
        {
          "output_type": "stream",
          "text": [
            "fatal: not a git repository (or any parent up to mount point /content)\n",
            "Stopping at filesystem boundary (GIT_DISCOVERY_ACROSS_FILESYSTEM not set).\n"
          ],
          "name": "stdout"
        }
      ]
    },
    {
      "cell_type": "code",
      "metadata": {
        "id": "1zQQ1Vnxx1z4",
        "colab_type": "code",
        "colab": {
          "base_uri": "https://localhost:8080/",
          "height": 52
        },
        "outputId": "25618e6c-8e39-4cf0-be01-7c04f09a964b"
      },
      "source": [
        "!git push -u origin master"
      ],
      "execution_count": 58,
      "outputs": [
        {
          "output_type": "stream",
          "text": [
            "fatal: not a git repository (or any parent up to mount point /content)\n",
            "Stopping at filesystem boundary (GIT_DISCOVERY_ACROSS_FILESYSTEM not set).\n"
          ],
          "name": "stdout"
        }
      ]
    },
    {
      "cell_type": "code",
      "metadata": {
        "id": "Sp3e75SpyMt4",
        "colab_type": "code",
        "colab": {}
      },
      "source": [
        ""
      ],
      "execution_count": 0,
      "outputs": []
    }
  ]
}